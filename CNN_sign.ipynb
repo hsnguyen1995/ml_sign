{
 "cells": [
  {
   "cell_type": "code",
   "execution_count": 1,
   "metadata": {},
   "outputs": [],
   "source": [
    "import numpy as np\n",
    "import os\n",
    "import matplotlib.pyplot as plt\n",
    "import cv2\n",
    "\n",
    "training_data_dir = \"data/train\"\n",
    "letters = [\"A\", \"B\", \"C\", \"D\", \"E\", \"F\", \"G\", \"H\", \"I\", \"J\", \"K\", \"L\", \"M\", \"N\", \"O\", \"P\", \"Q\", \"R\", \"S\", \"T\", \"U\", \"V\", \"W\", \"X\", \"Y\", \"Z\"]"
   ]
  },
  {
   "cell_type": "code",
   "execution_count": 2,
   "metadata": {},
   "outputs": [],
   "source": [
    "img_size = 64\n",
    "training_data = []\n",
    "labels = []\n",
    "\n",
    "from tensorflow.keras.utils import to_categorical\n",
    "\n",
    "def create_training_dataset():\n",
    "    for letter in letters:\n",
    "        path = os.path.join(training_data_dir, letter)\n",
    "        label_class = letters.index(letter)\n",
    "        for image in os.listdir(path):\n",
    "            try:\n",
    "                img_array = cv2.imread(os.path.join(path,image))\n",
    "                new_array = cv2.resize(img_array, (img_size,img_size))\n",
    "                training_data.append(new_array)\n",
    "                labels.append(label_class)\n",
    "            except Exception as e:\n",
    "                pass\n",
    "            \n",
    "    training_data_arr = np.array(training_data)\n",
    "    training_data_norm = training_data_arr.astype('float32')/255\n",
    "    \n",
    "    labels_categ = to_categorical(labels)\n",
    "#     print(training_data_norm[1])\n",
    "    print(len(training_data_norm), training_data_norm.shape)\n",
    "    return training_data_norm, labels_categ\n",
    "#     X_train is training_data_norm\n",
    "#     y_train is labels_categ"
   ]
  },
  {
   "cell_type": "code",
   "execution_count": 3,
   "metadata": {},
   "outputs": [
    {
     "name": "stdout",
     "output_type": "stream",
     "text": [
      "78000 (78000, 64, 64, 3)\n"
     ]
    }
   ],
   "source": [
    "training_data_norm, labels_categ = create_training_dataset()"
   ]
  },
  {
   "cell_type": "markdown",
   "metadata": {},
   "source": [
    "import random\n",
    "\n",
    "random.shuffle(training_data)"
   ]
  },
  {
   "cell_type": "code",
   "execution_count": 4,
   "metadata": {},
   "outputs": [],
   "source": [
    "import tensorflow as tf\n",
    "from tensorflow.keras.models import Sequential\n",
    "from tensorflow.keras.layers import Dense, Dropout, Activation, Flatten, Conv2D, MaxPooling2D, BatchNormalization\n",
    "from tensorflow.keras import regularizers"
   ]
  },
  {
   "cell_type": "code",
   "execution_count": 5,
   "metadata": {},
   "outputs": [
    {
     "name": "stdout",
     "output_type": "stream",
     "text": [
      "78000 (64, 64, 3)\n"
     ]
    }
   ],
   "source": [
    "print(len(training_data_norm), training_data_norm.shape[1:])"
   ]
  },
  {
   "cell_type": "code",
   "execution_count": 6,
   "metadata": {},
   "outputs": [
    {
     "name": "stdout",
     "output_type": "stream",
     "text": [
      "WARNING:tensorflow:From C:\\Users\\HSN\\Anaconda3\\envs\\PythonData\\lib\\site-packages\\tensorflow_core\\python\\ops\\resource_variable_ops.py:1630: calling BaseResourceVariable.__init__ (from tensorflow.python.ops.resource_variable_ops) with constraint is deprecated and will be removed in a future version.\n",
      "Instructions for updating:\n",
      "If using Keras pass *_constraint arguments to layers.\n"
     ]
    }
   ],
   "source": [
    "model = Sequential()\n",
    "\n",
    "model.add(Conv2D(16, (3,3), activation=\"relu\", padding=\"same\", input_shape = training_data_norm.shape[1:]))\n",
    "model.add(Conv2D(32, (3,3), activation=\"relu\", padding=\"same\"))\n",
    "model.add(MaxPooling2D(pool_size=(2,2)))\n",
    "\n",
    "model.add(Conv2D(32, (3,3), activation=\"relu\", padding=\"same\"))\n",
    "model.add(Conv2D(64, (3,3), activation=\"relu\", padding=\"same\"))\n",
    "model.add(MaxPooling2D(pool_size=(2,2)))\n",
    "          \n",
    "model.add(Conv2D(128, (3,3), activation=\"relu\", padding=\"same\"))\n",
    "model.add(Conv2D(256, (3,3), activation=\"relu\", padding=\"same\"))\n",
    "model.add(MaxPooling2D(pool_size=(2,2)))\n",
    "          \n",
    "model.add(BatchNormalization())\n",
    "model.add(Flatten())\n",
    "\n",
    "model.add(Dropout(0.5))\n",
    "model.add(Dense(512, activation='relu', kernel_regularizer=regularizers.l2(0.001)))\n",
    "model.add(Dense(26, activation=\"softmax\"))\n",
    "          \n",
    "model.compile(loss=\"categorical_crossentropy\", optimizer=\"adam\", metrics=['accuracy'])"
   ]
  },
  {
   "cell_type": "code",
   "execution_count": 7,
   "metadata": {},
   "outputs": [
    {
     "name": "stdout",
     "output_type": "stream",
     "text": [
      "Model: \"sequential\"\n",
      "_________________________________________________________________\n",
      "Layer (type)                 Output Shape              Param #   \n",
      "=================================================================\n",
      "conv2d (Conv2D)              (None, 64, 64, 16)        448       \n",
      "_________________________________________________________________\n",
      "conv2d_1 (Conv2D)            (None, 64, 64, 32)        4640      \n",
      "_________________________________________________________________\n",
      "max_pooling2d (MaxPooling2D) (None, 32, 32, 32)        0         \n",
      "_________________________________________________________________\n",
      "conv2d_2 (Conv2D)            (None, 32, 32, 32)        9248      \n",
      "_________________________________________________________________\n",
      "conv2d_3 (Conv2D)            (None, 32, 32, 64)        18496     \n",
      "_________________________________________________________________\n",
      "max_pooling2d_1 (MaxPooling2 (None, 16, 16, 64)        0         \n",
      "_________________________________________________________________\n",
      "conv2d_4 (Conv2D)            (None, 16, 16, 128)       73856     \n",
      "_________________________________________________________________\n",
      "conv2d_5 (Conv2D)            (None, 16, 16, 256)       295168    \n",
      "_________________________________________________________________\n",
      "max_pooling2d_2 (MaxPooling2 (None, 8, 8, 256)         0         \n",
      "_________________________________________________________________\n",
      "batch_normalization (BatchNo (None, 8, 8, 256)         1024      \n",
      "_________________________________________________________________\n",
      "flatten (Flatten)            (None, 16384)             0         \n",
      "_________________________________________________________________\n",
      "dropout (Dropout)            (None, 16384)             0         \n",
      "_________________________________________________________________\n",
      "dense (Dense)                (None, 512)               8389120   \n",
      "_________________________________________________________________\n",
      "dense_1 (Dense)              (None, 26)                13338     \n",
      "=================================================================\n",
      "Total params: 8,805,338\n",
      "Trainable params: 8,804,826\n",
      "Non-trainable params: 512\n",
      "_________________________________________________________________\n"
     ]
    }
   ],
   "source": [
    "model.summary()"
   ]
  },
  {
   "cell_type": "code",
   "execution_count": 8,
   "metadata": {},
   "outputs": [
    {
     "name": "stdout",
     "output_type": "stream",
     "text": [
      "Train on 70200 samples, validate on 7800 samples\n",
      "Epoch 1/15\n",
      "70200/70200 [==============================] - 1720s 25ms/sample - loss: 1.0559 - acc: 0.8511 - val_loss: 29.9242 - val_acc: 0.0315\n",
      "Epoch 2/15\n",
      "70200/70200 [==============================] - 1487s 21ms/sample - loss: 0.5756 - acc: 0.9713 - val_loss: 20.0796 - val_acc: 0.0629\n",
      "Epoch 3/15\n",
      "70200/70200 [==============================] - 1463s 21ms/sample - loss: 0.5687 - acc: 0.9753 - val_loss: 23.7541 - val_acc: 0.0827\n",
      "Epoch 4/15\n",
      "70200/70200 [==============================] - 1434s 20ms/sample - loss: 0.4889 - acc: 0.9818 - val_loss: 19.3342 - val_acc: 0.1203\n",
      "Epoch 5/15\n",
      "70200/70200 [==============================] - 1483s 21ms/sample - loss: 0.4892 - acc: 0.9823 - val_loss: 24.8581 - val_acc: 0.0405\n",
      "Epoch 6/15\n",
      "70200/70200 [==============================] - 1477s 21ms/sample - loss: 0.3723 - acc: 0.9869 - val_loss: 22.3143 - val_acc: 0.0745\n",
      "Epoch 7/15\n",
      "70200/70200 [==============================] - 1468s 21ms/sample - loss: 0.3437 - acc: 0.9895 - val_loss: 20.8717 - val_acc: 0.0647\n",
      "Epoch 8/15\n",
      "70200/70200 [==============================] - 1478s 21ms/sample - loss: 0.3357 - acc: 0.9881 - val_loss: 30.9159 - val_acc: 0.0597\n",
      "Epoch 9/15\n",
      "70200/70200 [==============================] - 1476s 21ms/sample - loss: 0.1814 - acc: 0.9956 - val_loss: 22.0431 - val_acc: 0.0872\n",
      "Epoch 10/15\n",
      "70200/70200 [==============================] - 1469s 21ms/sample - loss: 0.3004 - acc: 0.9900 - val_loss: 24.2254 - val_acc: 0.1176\n",
      "Epoch 11/15\n",
      "70200/70200 [==============================] - 1326s 19ms/sample - loss: 0.2089 - acc: 0.9928 - val_loss: 22.8278 - val_acc: 0.1027\n",
      "Epoch 12/15\n",
      "70200/70200 [==============================] - 688s 10ms/sample - loss: 0.1754 - acc: 0.9931 - val_loss: 31.3440 - val_acc: 0.0995\n",
      "Epoch 13/15\n",
      "70200/70200 [==============================] - 720s 10ms/sample - loss: 0.1567 - acc: 0.9961 - val_loss: 18.5049 - val_acc: 0.1104\n",
      "Epoch 14/15\n",
      "70200/70200 [==============================] - 765s 11ms/sample - loss: 0.2255 - acc: 0.9915 - val_loss: 27.2950 - val_acc: 0.1363\n",
      "Epoch 15/15\n",
      "70200/70200 [==============================] - 737s 10ms/sample - loss: 0.1173 - acc: 0.9960 - val_loss: 28.9968 - val_acc: 0.0783\n"
     ]
    },
    {
     "data": {
      "text/plain": [
       "<tensorflow.python.keras.callbacks.History at 0x229001f7390>"
      ]
     },
     "execution_count": 8,
     "metadata": {},
     "output_type": "execute_result"
    }
   ],
   "source": [
    "model.fit(training_data_norm, labels_categ, batch_size=64, epochs=15, validation_split=0.1)"
   ]
  },
  {
   "cell_type": "code",
   "execution_count": 9,
   "metadata": {},
   "outputs": [],
   "source": [
    "model.save(\"cnn_sign.h5\")"
   ]
  },
  {
   "cell_type": "code",
   "execution_count": 28,
   "metadata": {},
   "outputs": [],
   "source": [
    "test_data_dir = \"data/test/\"\n",
    "\n",
    "def load_testing_data():\n",
    "    img_size = 64\n",
    "    testing_data = []\n",
    "    labels = []\n",
    "    for image in os.listdir(test_data_dir):\n",
    "        try:\n",
    "            img_array = cv2.imread(test_data_dir + image)\n",
    "            new_array = cv2.resize(img_array, (img_size,img_size))\n",
    "            testing_data.append(new_array)\n",
    "            labels.append(image)\n",
    "        except Exception as e:\n",
    "            pass\n",
    "            \n",
    "    testing_data_arr = np.array(testing_data)\n",
    "    testing_data_norm = testing_data_arr.astype('float32')/255\n",
    "#     print(labels)\n",
    "#     labels_categ = to_categorical(labels)\n",
    "    return testing_data_norm, labels\n",
    "# , labels_categ\n",
    "#     X_test is testing_data_norm\n",
    "#     y_test is labels_categ\n",
    "testing_data_norm, labels_categ = load_testing_data()"
   ]
  },
  {
   "cell_type": "code",
   "execution_count": 29,
   "metadata": {},
   "outputs": [
    {
     "name": "stdout",
     "output_type": "stream",
     "text": [
      "[0, 1, 2, 3, 4, 5, 6, 7, 8, 9, 10, 11, 12, 13, 14, 15, 16, 17, 18, 19, 20, 21, 22, 23, 9, 23]\n"
     ]
    }
   ],
   "source": [
    "predictions = [model.predict_classes(image.reshape(1,64,64,3))[0] for image in testing_data_norm]\n",
    "print(predictions)"
   ]
  },
  {
   "cell_type": "code",
   "execution_count": 30,
   "metadata": {},
   "outputs": [
    {
     "name": "stdout",
     "output_type": "stream",
     "text": [
      "['A', 'B', 'C', 'D', 'E', 'F', 'G', 'H', 'I', 'J', 'K', 'L', 'M', 'N', 'O', 'P', 'Q', 'R', 'S', 'T', 'U', 'V', 'W', 'X', 'J', 'X']\n"
     ]
    }
   ],
   "source": [
    "letter_decode = {\"A\":0, \"B\":1, \"C\":2, \"D\":3, \"E\":4, \"F\":5, \"G\":6, \"H\":7, \"I\":8, \"J\":9, \"K\":10, \"L\":11, \"M\":12, \"N\":13, \"O\":14, \"P\":15, \"Q\":16, \"R\":17, \"S\":18, \"T\":19, \"U\":20, \"V\":21, \"W\":22, \"X\":23, \"Y\":24, \"Z\":25}\n",
    "\n",
    "def decodePredictions(p):\n",
    "    decoded_predictions = []\n",
    "    for i in range(len(p)):\n",
    "        for letter in letter_decode:\n",
    "            if p[i] == letter_decode[letter]:\n",
    "                decoded_predictions.append(letter)\n",
    "    return decoded_predictions\n",
    "\n",
    "prediction_letters = decodePredictions(predictions)\n",
    "print(prediction_letters)"
   ]
  },
  {
   "cell_type": "code",
   "execution_count": 24,
   "metadata": {},
   "outputs": [],
   "source": [
    "acc = [0.8511, 0.9713, 0.9753, 0.9818, 0.9823, 0.9869, 0.9881, 0.9895, 0.9900, 0.9915, 0.9928, 0.9931, 0.9956, 0.9960, 0.9961]\n",
    "loss = [0.1173, 0.1567, 0.1754, 0.1814, 0.2089, 0.2255, 0.3004, 0.3357, 0.3437, 0.3723, 0.4889, 0.4892, 0.5687, 0.5756, 1.0559]\n",
    "val_acc = [0.0315, 0.0405, 0.0597, 0.0629, 0.0647, 0.0745, 0.0783, 0.0827, 0.0872, 0.0995, 0.1027, 0.1104, 0.1176, 0.1203, 0.1363]\n",
    "val_loss = [18.5049, 19.3342, 20.0796, 20.8717, 22.0431, 22.3143, 22.8278, 23.7541, 24.2254, 24.8581, 27.2950, 28.9968, 29.9242, 30.9159, 31.3440]"
   ]
  },
  {
   "cell_type": "code",
   "execution_count": 26,
   "metadata": {},
   "outputs": [
    {
     "data": {
      "image/png": "[encoded data removed]",
      "text/plain": [
       "<Figure size 432x288 with 1 Axes>"
      ]
     },
     "metadata": {
      "needs_background": "light"
     },
     "output_type": "display_data"
    }
   ],
   "source": [
    "plt.plot(acc)\n",
    "plt.plot(val_acc)\n",
    "plt.legend(['train', 'validation'], loc='best')\n",
    "plt.title(\"Accuracy: Train vs. Validation\")\n",
    "plt.xlabel(\"Epoch\")\n",
    "plt.ylabel(\"Accuracy\")\n",
    "plt.show()"
   ]
  },
  {
   "cell_type": "code",
   "execution_count": 27,
   "metadata": {},
   "outputs": [
    {
     "data": {
      "image/png": "[encoded data removed]",
      "text/plain": [
       "<Figure size 432x288 with 1 Axes>"
      ]
     },
     "metadata": {
      "needs_background": "light"
     },
     "output_type": "display_data"
    }
   ],
   "source": [
    "plt.plot(loss)\n",
    "plt.plot(val_loss)\n",
    "plt.legend(['train', 'validation'], loc='best')\n",
    "plt.title(\"Loss: Train vs. Validation\")\n",
    "plt.xlabel(\"Epoch\")\n",
    "plt.ylabel(\"Loss\")\n",
    "plt.show()"
   ]
  },
  {
   "cell_type": "code",
   "execution_count": null,
   "metadata": {},
   "outputs": [],
   "source": []
  }
 ],
 "metadata": {
  "kernelspec": {
   "display_name": "Python [conda env:PythonData] *",
   "language": "python",
   "name": "conda-env-PythonData-py"
  },
  "language_info": {
   "codemirror_mode": {
    "name": "ipython",
    "version": 3
   },
   "file_extension": ".py",
   "mimetype": "text/x-python",
   "name": "python",
   "nbconvert_exporter": "python",
   "pygments_lexer": "ipython3",
   "version": "3.6.9"
  }
 },
 "nbformat": 4,
 "nbformat_minor": 2
}
